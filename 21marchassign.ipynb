{
 "cells": [
  {
   "cell_type": "markdown",
   "id": "62156c3a-961e-4408-8a6e-07601beb9096",
   "metadata": {},
   "source": [
    "# **ASSIGNMENT**"
   ]
  },
  {
   "cell_type": "markdown",
   "id": "a4ce1646-ef0b-4a1b-8e41-a3b08f822d63",
   "metadata": {},
   "source": [
    "**Q1. What is the difference between Ordinal Encoding and Label Encoding? Provide an example of when you\n",
    "might choose one over the other.**"
   ]
  },
  {
   "cell_type": "markdown",
   "id": "54c9b9fa-d599-4b14-a01c-84bfc121fd3a",
   "metadata": {},
   "source": [
    "Ordinal Encoding and Label Encoding are both techniques used for encoding categorical variables into numerical representations. However, they differ in the way they assign numerical values to categories.\n",
    "\n",
    "1. Label Encoding:\n",
    "   Label Encoding assigns a unique numerical label to each category in a categorical variable. The labels are assigned in an arbitrary manner, typically starting from 0 or 1. For example:\n",
    "\n",
    "   Original Categorical Variable:\n",
    "   - Category A\n",
    "   - Category B\n",
    "   - Category C\n",
    "\n",
    "   Label Encoded Variable:\n",
    "   - Category A: 0\n",
    "   - Category B: 1\n",
    "   - Category C: 2\n",
    "\n",
    "   Label Encoding is often suitable when the categorical variable does not have an inherent order or hierarchy. It is commonly used for encoding nominal variables.\n",
    "\n",
    "2. Ordinal Encoding:\n",
    "   Ordinal Encoding assigns numerical values to categories based on their order or ranking. The assigned values reflect the relative position or importance of the categories. For example:\n",
    "\n",
    "   Original Categorical Variable:\n",
    "   - Category A\n",
    "   - Category B\n",
    "   - Category C\n",
    "\n",
    "   Ordinal Encoded Variable:\n",
    "   - Category A: 1\n",
    "   - Category B: 2\n",
    "   - Category C: 3\n",
    "\n",
    "   Ordinal Encoding is useful when the categorical variable has an inherent order or hierarchy. It preserves the ordinal relationship between the categories. This encoding is often used for encoding variables with ordered levels, such as ratings (e.g., low, medium, high) or educational degrees (e.g., primary, secondary, tertiary).\n",
    "\n",
    "Example scenario:\n",
    "Suppose we have a dataset containing a \"Size\" feature that represents t-shirt sizes: \"Small,\" \"Medium,\" and \"Large.\" If the sizes have no inherent order, we can use Label Encoding to assign numerical labels like 0, 1, and 2 to the categories. However, if the sizes have an inherent order (Small < Medium < Large), we should use Ordinal Encoding to assign numerical values based on the order (e.g., 1, 2, 3).\n",
    "\n",
    "In summary, the choice between Label Encoding and Ordinal Encoding depends on the nature of the categorical variable and whether there is an inherent order or hierarchy among the categories. Label Encoding is appropriate for nominal variables without an order, while Ordinal Encoding is suitable for encoding variables with ordered levels."
   ]
  },
  {
   "cell_type": "markdown",
   "id": "dd257396-9f83-42ef-8c87-bee7441aa401",
   "metadata": {},
   "source": [
    "**Q2. Explain how Target Guided Ordinal Encoding works and provide an example of when you might use it in\n",
    "a machine learning project.**"
   ]
  },
  {
   "cell_type": "markdown",
   "id": "c36c9b58-54d5-4754-a196-076a5a7050eb",
   "metadata": {},
   "source": [
    "Target Guided Ordinal Encoding is a technique used to encode categorical variables by taking into account the relationship between the categories and the target variable. It assigns ordinal numerical values to the categories based on their impact or influence on the target variable.\n",
    "\n",
    "Here's how Target Guided Ordinal Encoding works:\n",
    "\n",
    "1. Calculate the mean or median target value for each category: For each category in the categorical variable, compute the mean or median value of the target variable. This represents the average target value associated with that category.\n",
    "\n",
    "2. Order the categories based on the mean or median target value: Sort the categories based on their mean or median target values in ascending or descending order. The ordering reflects the impact or influence of each category on the target variable.\n",
    "\n",
    "3. Assign ordinal numerical values to the categories: Assign ordinal numerical values to the categories based on their ordered positions. The category with the highest mean or median target value typically receives the highest value, and the category with the lowest mean or median target value receives the lowest value.\n",
    "\n",
    "Example scenario:\n",
    "Let's consider a machine learning project where you are building a model to predict customer churn in a telecom company. One of the features is the \"Subscription Type,\" which represents the different subscription plans available to customers. we want to encode this categorical variable in a way that captures its influence on the target variable (churn).\n",
    "\n",
    "Using Target Guided Ordinal Encoding:\n",
    "1. Calculate the mean or median churn rate for each subscription type.\n",
    "2. Order the subscription types based on their mean or median churn rates.\n",
    "3. Assign ordinal values to the subscription types based on their ordered positions.\n",
    "\n",
    "Encoded Subscription Type:\n",
    "- Plan A: 3\n",
    "- Plan B: 2\n",
    "- Plan C: 1\n",
    "\n",
    "In this example, Target Guided Ordinal Encoding assigns numerical values based on the churn rate associated with each subscription type. The encoding reflects the ordering of subscription types in terms of their impact on the target variable (churn).\n",
    "\n",
    "Target Guided Ordinal Encoding can be useful when there is a meaningful relationship between the categorical variable and the target variable. By considering the target variable, it allows the model to capture the inherent patterns and influence of the categories on the prediction task. It is commonly used when dealing with categorical variables that have a clear ordering or when the target variable shows distinct differences across categories."
   ]
  },
  {
   "cell_type": "markdown",
   "id": "b909df50-8962-4956-8511-504007015704",
   "metadata": {},
   "source": [
    "**Q3. Define covariance and explain why it is important in statistical analysis. How is covariance calculated?**"
   ]
  },
  {
   "cell_type": "markdown",
   "id": "cf08bb29-8f0a-4feb-8e98-62118ebc8540",
   "metadata": {},
   "source": [
    "Covariance is a statistical measure that quantifies the relationship between two variables. It measures how changes in one variable correspond to changes in another variable. Specifically, covariance indicates whether the variables tend to vary together (covary) or vary in opposite directions.\n",
    "\n",
    "Covariance is important in statistical analysis for several reasons:\n",
    "\n",
    "1. Relationship between variables: Covariance helps in understanding the relationship between two variables. A positive covariance indicates that the variables tend to increase or decrease together, while a negative covariance indicates that they tend to vary in opposite directions.\n",
    "\n",
    "2. Linearity assessment: Covariance is a measure of linear association. It helps determine whether two variables have a linear relationship. If the covariance is close to zero, it suggests a weak or no linear relationship, whereas a nonzero covariance indicates a linear association.\n",
    "\n",
    "3. Variable selection: Covariance can assist in selecting relevant variables for analysis. By examining the covariances between variables and the target variable, one can identify variables that have a strong relationship with the outcome of interest.\n",
    "\n",
    "4. Portfolio diversification: In finance, covariance is used to assess the diversification of a portfolio. Covariance between different assets helps determine the extent to which their returns move together or in opposite directions. A portfolio with assets that have low or negative covariance provides better diversification and reduces overall risk.\n",
    "\n",
    "Covariance is calculated using the following formula:\n",
    "\n",
    "cov(X, Y) = Σ((Xᵢ - X̄)(Yᵢ - Ȳ))/(n-1)\n",
    "\n",
    "where:\n",
    "- X and Y are the variables of interest\n",
    "- Xᵢ and Yᵢ are the individual data points of X and Y\n",
    "- X̄ and Ȳ are the means of X and Y, respectively\n",
    "- n is the number of data points\n",
    "\n",
    "The covariance formula calculates the sum of the products of the deviations of X and Y from their means, divided by (n-1). The resulting value indicates the strength and direction of the covariance.\n"
   ]
  },
  {
   "cell_type": "markdown",
   "id": "79fc1f8f-c073-44d1-b73b-1c06f8bca8ea",
   "metadata": {},
   "source": [
    "**Q4. For a dataset with the following categorical variables: Color (red, green, blue), Size (small, medium,\n",
    "large), and Material (wood, metal, plastic), perform label encoding using Python's scikit-learn library.\n",
    "Show your code and explain the output.**"
   ]
  },
  {
   "cell_type": "code",
   "execution_count": 1,
   "id": "24c61ff9-ef3b-4f4e-8848-2970005ace31",
   "metadata": {},
   "outputs": [],
   "source": [
    "from sklearn.preprocessing import LabelEncoder "
   ]
  },
  {
   "cell_type": "code",
   "execution_count": 2,
   "id": "bbda7e23-7a56-4094-b810-46ba2fbc6a79",
   "metadata": {},
   "outputs": [],
   "source": [
    "import pandas as pd\n",
    "\n",
    "data = {\n",
    "    'Color': ['red', 'green', 'blue', 'green', 'red', 'blue'],\n",
    "    'Size': ['small', 'medium', 'medium', 'large', 'small', 'medium'],\n",
    "    'Material': ['wood', 'metal', 'plastic', 'plastic', 'wood', 'metal']\n",
    "}\n",
    "\n",
    "dataset = pd.DataFrame(data)"
   ]
  },
  {
   "cell_type": "code",
   "execution_count": 3,
   "id": "ac5cccda-0c8e-4186-a711-1a493d75d00c",
   "metadata": {},
   "outputs": [
    {
     "data": {
      "text/html": [
       "<div>\n",
       "<style scoped>\n",
       "    .dataframe tbody tr th:only-of-type {\n",
       "        vertical-align: middle;\n",
       "    }\n",
       "\n",
       "    .dataframe tbody tr th {\n",
       "        vertical-align: top;\n",
       "    }\n",
       "\n",
       "    .dataframe thead th {\n",
       "        text-align: right;\n",
       "    }\n",
       "</style>\n",
       "<table border=\"1\" class=\"dataframe\">\n",
       "  <thead>\n",
       "    <tr style=\"text-align: right;\">\n",
       "      <th></th>\n",
       "      <th>Color</th>\n",
       "      <th>Size</th>\n",
       "      <th>Material</th>\n",
       "    </tr>\n",
       "  </thead>\n",
       "  <tbody>\n",
       "    <tr>\n",
       "      <th>0</th>\n",
       "      <td>red</td>\n",
       "      <td>small</td>\n",
       "      <td>wood</td>\n",
       "    </tr>\n",
       "    <tr>\n",
       "      <th>1</th>\n",
       "      <td>green</td>\n",
       "      <td>medium</td>\n",
       "      <td>metal</td>\n",
       "    </tr>\n",
       "    <tr>\n",
       "      <th>2</th>\n",
       "      <td>blue</td>\n",
       "      <td>medium</td>\n",
       "      <td>plastic</td>\n",
       "    </tr>\n",
       "    <tr>\n",
       "      <th>3</th>\n",
       "      <td>green</td>\n",
       "      <td>large</td>\n",
       "      <td>plastic</td>\n",
       "    </tr>\n",
       "    <tr>\n",
       "      <th>4</th>\n",
       "      <td>red</td>\n",
       "      <td>small</td>\n",
       "      <td>wood</td>\n",
       "    </tr>\n",
       "    <tr>\n",
       "      <th>5</th>\n",
       "      <td>blue</td>\n",
       "      <td>medium</td>\n",
       "      <td>metal</td>\n",
       "    </tr>\n",
       "  </tbody>\n",
       "</table>\n",
       "</div>"
      ],
      "text/plain": [
       "   Color    Size Material\n",
       "0    red   small     wood\n",
       "1  green  medium    metal\n",
       "2   blue  medium  plastic\n",
       "3  green   large  plastic\n",
       "4    red   small     wood\n",
       "5   blue  medium    metal"
      ]
     },
     "execution_count": 3,
     "metadata": {},
     "output_type": "execute_result"
    }
   ],
   "source": [
    "dataset"
   ]
  },
  {
   "cell_type": "code",
   "execution_count": 4,
   "id": "e28cd54e-84f0-49e2-9857-2501611a7791",
   "metadata": {},
   "outputs": [],
   "source": [
    "encoder=LabelEncoder()"
   ]
  },
  {
   "cell_type": "code",
   "execution_count": 5,
   "id": "7fe78193-5684-439b-a53b-ea0401d5b083",
   "metadata": {},
   "outputs": [],
   "source": [
    "dataset[\"Encoded_color\"]=encoder.fit_transform(dataset[\"Color\"])\n",
    "dataset[\"Encoded_Size\"]=encoder.fit_transform(dataset[\"Size\"])\n",
    "dataset[\"Encoded_Material\"]=encoder.fit_transform(dataset[\"Material\"])"
   ]
  },
  {
   "cell_type": "code",
   "execution_count": 6,
   "id": "f8be5506-3d18-4204-a092-3c87ed7fdd83",
   "metadata": {},
   "outputs": [
    {
     "data": {
      "text/html": [
       "<div>\n",
       "<style scoped>\n",
       "    .dataframe tbody tr th:only-of-type {\n",
       "        vertical-align: middle;\n",
       "    }\n",
       "\n",
       "    .dataframe tbody tr th {\n",
       "        vertical-align: top;\n",
       "    }\n",
       "\n",
       "    .dataframe thead th {\n",
       "        text-align: right;\n",
       "    }\n",
       "</style>\n",
       "<table border=\"1\" class=\"dataframe\">\n",
       "  <thead>\n",
       "    <tr style=\"text-align: right;\">\n",
       "      <th></th>\n",
       "      <th>Color</th>\n",
       "      <th>Size</th>\n",
       "      <th>Material</th>\n",
       "      <th>Encoded_color</th>\n",
       "      <th>Encoded_Size</th>\n",
       "      <th>Encoded_Material</th>\n",
       "    </tr>\n",
       "  </thead>\n",
       "  <tbody>\n",
       "    <tr>\n",
       "      <th>0</th>\n",
       "      <td>red</td>\n",
       "      <td>small</td>\n",
       "      <td>wood</td>\n",
       "      <td>2</td>\n",
       "      <td>2</td>\n",
       "      <td>2</td>\n",
       "    </tr>\n",
       "    <tr>\n",
       "      <th>1</th>\n",
       "      <td>green</td>\n",
       "      <td>medium</td>\n",
       "      <td>metal</td>\n",
       "      <td>1</td>\n",
       "      <td>1</td>\n",
       "      <td>0</td>\n",
       "    </tr>\n",
       "    <tr>\n",
       "      <th>2</th>\n",
       "      <td>blue</td>\n",
       "      <td>medium</td>\n",
       "      <td>plastic</td>\n",
       "      <td>0</td>\n",
       "      <td>1</td>\n",
       "      <td>1</td>\n",
       "    </tr>\n",
       "    <tr>\n",
       "      <th>3</th>\n",
       "      <td>green</td>\n",
       "      <td>large</td>\n",
       "      <td>plastic</td>\n",
       "      <td>1</td>\n",
       "      <td>0</td>\n",
       "      <td>1</td>\n",
       "    </tr>\n",
       "    <tr>\n",
       "      <th>4</th>\n",
       "      <td>red</td>\n",
       "      <td>small</td>\n",
       "      <td>wood</td>\n",
       "      <td>2</td>\n",
       "      <td>2</td>\n",
       "      <td>2</td>\n",
       "    </tr>\n",
       "    <tr>\n",
       "      <th>5</th>\n",
       "      <td>blue</td>\n",
       "      <td>medium</td>\n",
       "      <td>metal</td>\n",
       "      <td>0</td>\n",
       "      <td>1</td>\n",
       "      <td>0</td>\n",
       "    </tr>\n",
       "  </tbody>\n",
       "</table>\n",
       "</div>"
      ],
      "text/plain": [
       "   Color    Size Material  Encoded_color  Encoded_Size  Encoded_Material\n",
       "0    red   small     wood              2             2                 2\n",
       "1  green  medium    metal              1             1                 0\n",
       "2   blue  medium  plastic              0             1                 1\n",
       "3  green   large  plastic              1             0                 1\n",
       "4    red   small     wood              2             2                 2\n",
       "5   blue  medium    metal              0             1                 0"
      ]
     },
     "execution_count": 6,
     "metadata": {},
     "output_type": "execute_result"
    }
   ],
   "source": [
    "dataset"
   ]
  },
  {
   "cell_type": "markdown",
   "id": "8f2028ed-4e0f-40a3-ab7d-eaf5dc13b041",
   "metadata": {},
   "source": [
    "In the encoded dataset, each categorical variable has been replaced with numeric labels.\n",
    "\n",
    "For the 'Color' column:\n",
    "\n",
    "'red' is encoded as 2\n",
    "'green' is encoded as 1\n",
    "'blue' is encoded as 0\n",
    "For the 'Size' column:\n",
    "\n",
    "'small' is encoded as 2\n",
    "'medium' is encoded as 1\n",
    "'large' is encoded as 0\n",
    "\n",
    "For the 'Material' column:\n",
    "\n",
    "'wood' is encoded as 2\n",
    "'metal' is encoded as 0\n",
    "'plastic' is encoded as 1\n",
    "\n",
    "The label encoding process assigns a unique numerical label to each category within a feature. This encoding is suitable for categorical variables when there is no inherent order or hierarchy among the categories. It allows for the representation of categorical data as numerical values."
   ]
  },
  {
   "cell_type": "markdown",
   "id": "58e4bf5e-93a7-4f9c-a398-24931aa90d96",
   "metadata": {},
   "source": [
    "**Q5. Calculate the covariance matrix for the following variables in a dataset: Age, Income, and Education\n",
    "level. Interpret the results.**"
   ]
  },
  {
   "cell_type": "code",
   "execution_count": 7,
   "id": "5f2ede42-d211-4707-a39a-d7982e7f4cb3",
   "metadata": {},
   "outputs": [],
   "source": [
    "import pandas as pd\n",
    "\n",
    "data = {\n",
    "    'Age': [25, 30, 35, 40, 45],\n",
    "    'Income': [50000, 60000, 70000, 80000, 90000],\n",
    "    'Education Level': [1, 2, 3, 2, 3]\n",
    "}\n",
    "\n",
    "dataset1 = pd.DataFrame(data)\n"
   ]
  },
  {
   "cell_type": "code",
   "execution_count": 8,
   "id": "e6791c0f-e9ce-4130-b8a1-bbdcafdc4aa2",
   "metadata": {},
   "outputs": [
    {
     "data": {
      "text/html": [
       "<div>\n",
       "<style scoped>\n",
       "    .dataframe tbody tr th:only-of-type {\n",
       "        vertical-align: middle;\n",
       "    }\n",
       "\n",
       "    .dataframe tbody tr th {\n",
       "        vertical-align: top;\n",
       "    }\n",
       "\n",
       "    .dataframe thead th {\n",
       "        text-align: right;\n",
       "    }\n",
       "</style>\n",
       "<table border=\"1\" class=\"dataframe\">\n",
       "  <thead>\n",
       "    <tr style=\"text-align: right;\">\n",
       "      <th></th>\n",
       "      <th>Age</th>\n",
       "      <th>Income</th>\n",
       "      <th>Education Level</th>\n",
       "    </tr>\n",
       "  </thead>\n",
       "  <tbody>\n",
       "    <tr>\n",
       "      <th>0</th>\n",
       "      <td>25</td>\n",
       "      <td>50000</td>\n",
       "      <td>1</td>\n",
       "    </tr>\n",
       "    <tr>\n",
       "      <th>1</th>\n",
       "      <td>30</td>\n",
       "      <td>60000</td>\n",
       "      <td>2</td>\n",
       "    </tr>\n",
       "    <tr>\n",
       "      <th>2</th>\n",
       "      <td>35</td>\n",
       "      <td>70000</td>\n",
       "      <td>3</td>\n",
       "    </tr>\n",
       "    <tr>\n",
       "      <th>3</th>\n",
       "      <td>40</td>\n",
       "      <td>80000</td>\n",
       "      <td>2</td>\n",
       "    </tr>\n",
       "    <tr>\n",
       "      <th>4</th>\n",
       "      <td>45</td>\n",
       "      <td>90000</td>\n",
       "      <td>3</td>\n",
       "    </tr>\n",
       "  </tbody>\n",
       "</table>\n",
       "</div>"
      ],
      "text/plain": [
       "   Age  Income  Education Level\n",
       "0   25   50000                1\n",
       "1   30   60000                2\n",
       "2   35   70000                3\n",
       "3   40   80000                2\n",
       "4   45   90000                3"
      ]
     },
     "execution_count": 8,
     "metadata": {},
     "output_type": "execute_result"
    }
   ],
   "source": [
    "dataset1"
   ]
  },
  {
   "cell_type": "code",
   "execution_count": 9,
   "id": "7bf63e2b-112a-47e7-9926-8342151880c4",
   "metadata": {},
   "outputs": [
    {
     "data": {
      "text/html": [
       "<div>\n",
       "<style scoped>\n",
       "    .dataframe tbody tr th:only-of-type {\n",
       "        vertical-align: middle;\n",
       "    }\n",
       "\n",
       "    .dataframe tbody tr th {\n",
       "        vertical-align: top;\n",
       "    }\n",
       "\n",
       "    .dataframe thead th {\n",
       "        text-align: right;\n",
       "    }\n",
       "</style>\n",
       "<table border=\"1\" class=\"dataframe\">\n",
       "  <thead>\n",
       "    <tr style=\"text-align: right;\">\n",
       "      <th></th>\n",
       "      <th>Age</th>\n",
       "      <th>Income</th>\n",
       "      <th>Education Level</th>\n",
       "    </tr>\n",
       "  </thead>\n",
       "  <tbody>\n",
       "    <tr>\n",
       "      <th>Age</th>\n",
       "      <td>62.5</td>\n",
       "      <td>125000.0</td>\n",
       "      <td>5.0</td>\n",
       "    </tr>\n",
       "    <tr>\n",
       "      <th>Income</th>\n",
       "      <td>125000.0</td>\n",
       "      <td>250000000.0</td>\n",
       "      <td>10000.0</td>\n",
       "    </tr>\n",
       "    <tr>\n",
       "      <th>Education Level</th>\n",
       "      <td>5.0</td>\n",
       "      <td>10000.0</td>\n",
       "      <td>0.7</td>\n",
       "    </tr>\n",
       "  </tbody>\n",
       "</table>\n",
       "</div>"
      ],
      "text/plain": [
       "                      Age       Income  Education Level\n",
       "Age                  62.5     125000.0              5.0\n",
       "Income           125000.0  250000000.0          10000.0\n",
       "Education Level       5.0      10000.0              0.7"
      ]
     },
     "execution_count": 9,
     "metadata": {},
     "output_type": "execute_result"
    }
   ],
   "source": [
    "dataset1.cov()"
   ]
  },
  {
   "cell_type": "markdown",
   "id": "94cd6d6f-c412-4f9d-9319-370f28a71f39",
   "metadata": {},
   "source": [
    "Interpreting the results:\n",
    "\n",
    "Covariance between Age and Income: The covariance value of 25000 indicates a positive relationship between Age and Income. It suggests that, on average, as Age increases, Income tends to increase as well.\n",
    "Covariance between Age and Education Level: The covariance value of 5.0 suggests a weak positive relationship between Age and Education Level. However, since Education Level is a categorical variable encoded as numbers, the covariance value might not provide meaningful insights in this case.\n",
    "Covariance between Income and Education Level: The covariance value of 25000 indicates a positive relationship between Income and Education Level. It suggests that, on average, as Income increases, Education Level tends to increase as well.\n"
   ]
  },
  {
   "cell_type": "markdown",
   "id": "c9553117-2226-485f-bfa6-58e45e421ab2",
   "metadata": {},
   "source": [
    "**Q6. You are working on a machine learning project with a dataset containing several categorical\n",
    "variables, including \"Gender\" (Male/Female), \"Education Level\" (High School/Bachelor's/Master's/PhD),\n",
    "and \"Employment Status\" (Unemployed/Part-Time/Full-Time). Which encoding method would you use for\n",
    "each variable, and why?**"
   ]
  },
  {
   "cell_type": "markdown",
   "id": "c193a0a6-bbf1-461c-890c-f72f54a24149",
   "metadata": {},
   "source": [
    "When encoding categorical variables in a machine learning project, the choice of encoding method depends on the nature of the variable and its relationship with the target variable.\n",
    "\n",
    "1. \"Gender\" (Male/Female):\n",
    "   For the \"Gender\" variable, you can use Label Encoding or One-Hot Encoding.\n",
    "   - Label Encoding: If the variable has a natural order or ordinal relationship, we can assign numerical labels such as 0 and 1 to represent Male and Female, respectively.\n",
    "   - One-Hot Encoding: If there is no inherent order or ordinal relationship,we can use one-hot encoding. It creates binary columns for each category, representing the presence (1) or absence (0) of that category.\n",
    "\n",
    "2. \"Education Level\" (High School/Bachelor's/Master's/PhD):\n",
    "   For the \"Education Level\" variable, you can use Ordinal Encoding or One-Hot Encoding.\n",
    "   - Ordinal Encoding: If there is a natural order or hierarchy in education levels (e.g., High School < Bachelor's < Master's < PhD), we can assign ordinal numerical values to each category, preserving their relative order.\n",
    "   - One-Hot Encoding: If there is no inherent order or ordinal relationship, we can use one-hot encoding to create binary columns for each education level.\n",
    "\n",
    "3. \"Employment Status\" (Unemployed/Part-Time/Full-Time):\n",
    "   For the \"Employment Status\" variable, you can use One-Hot Encoding.\n",
    "   - One-Hot Encoding: Since there is no inherent order or ordinal relationship among employment status categories, one-hot encoding is suitable. It will create binary columns for each employment status category, indicating the presence (1) or absence (0) of that category."
   ]
  },
  {
   "cell_type": "markdown",
   "id": "8b4f9790-18ef-4c3b-9225-3ac8a8b3e992",
   "metadata": {},
   "source": [
    "**Q7. You are analyzing a dataset with two continuous variables, \"Temperature\" and \"Humidity\", and two\n",
    "categorical variables, \"Weather Condition\" (Sunny/Cloudy/Rainy) and \"Wind Direction\" (North/South/\n",
    "East/West). Calculate the covariance between each pair of variables and interpret the results.**"
   ]
  },
  {
   "cell_type": "code",
   "execution_count": 10,
   "id": "423ff006-f81f-4a34-b7f7-23a20339ddc7",
   "metadata": {},
   "outputs": [],
   "source": [
    "import pandas as pd\n",
    "import warnings\n",
    "warnings.filterwarnings(\"ignore\")\n",
    "\n",
    "data = {\n",
    "    'Temperature': [25.5, 28.2, 22.7, 20.1, 24.8],\n",
    "    'Humidity': [65, 70, 75, 80, 85],\n",
    "    'Weather Condition': ['Sunny', 'Cloudy', 'Rainy', 'Sunny', 'Cloudy'],\n",
    "    'Wind Direction': ['North', 'South', 'East', 'West', 'North']\n",
    "}\n",
    "\n",
    "dataset2 = pd.DataFrame(data)\n",
    "\n"
   ]
  },
  {
   "cell_type": "code",
   "execution_count": 11,
   "id": "56ccce25-cab2-46aa-9164-2854509a5b5c",
   "metadata": {},
   "outputs": [
    {
     "data": {
      "text/html": [
       "<div>\n",
       "<style scoped>\n",
       "    .dataframe tbody tr th:only-of-type {\n",
       "        vertical-align: middle;\n",
       "    }\n",
       "\n",
       "    .dataframe tbody tr th {\n",
       "        vertical-align: top;\n",
       "    }\n",
       "\n",
       "    .dataframe thead th {\n",
       "        text-align: right;\n",
       "    }\n",
       "</style>\n",
       "<table border=\"1\" class=\"dataframe\">\n",
       "  <thead>\n",
       "    <tr style=\"text-align: right;\">\n",
       "      <th></th>\n",
       "      <th>Temperature</th>\n",
       "      <th>Humidity</th>\n",
       "      <th>Weather Condition</th>\n",
       "      <th>Wind Direction</th>\n",
       "    </tr>\n",
       "  </thead>\n",
       "  <tbody>\n",
       "    <tr>\n",
       "      <th>0</th>\n",
       "      <td>25.5</td>\n",
       "      <td>65</td>\n",
       "      <td>Sunny</td>\n",
       "      <td>North</td>\n",
       "    </tr>\n",
       "    <tr>\n",
       "      <th>1</th>\n",
       "      <td>28.2</td>\n",
       "      <td>70</td>\n",
       "      <td>Cloudy</td>\n",
       "      <td>South</td>\n",
       "    </tr>\n",
       "    <tr>\n",
       "      <th>2</th>\n",
       "      <td>22.7</td>\n",
       "      <td>75</td>\n",
       "      <td>Rainy</td>\n",
       "      <td>East</td>\n",
       "    </tr>\n",
       "    <tr>\n",
       "      <th>3</th>\n",
       "      <td>20.1</td>\n",
       "      <td>80</td>\n",
       "      <td>Sunny</td>\n",
       "      <td>West</td>\n",
       "    </tr>\n",
       "    <tr>\n",
       "      <th>4</th>\n",
       "      <td>24.8</td>\n",
       "      <td>85</td>\n",
       "      <td>Cloudy</td>\n",
       "      <td>North</td>\n",
       "    </tr>\n",
       "  </tbody>\n",
       "</table>\n",
       "</div>"
      ],
      "text/plain": [
       "   Temperature  Humidity Weather Condition Wind Direction\n",
       "0         25.5        65             Sunny          North\n",
       "1         28.2        70            Cloudy          South\n",
       "2         22.7        75             Rainy           East\n",
       "3         20.1        80             Sunny           West\n",
       "4         24.8        85            Cloudy          North"
      ]
     },
     "execution_count": 11,
     "metadata": {},
     "output_type": "execute_result"
    }
   ],
   "source": [
    "dataset2"
   ]
  },
  {
   "cell_type": "code",
   "execution_count": 12,
   "id": "47227981-f122-4cf3-a8f5-df547be81db9",
   "metadata": {},
   "outputs": [
    {
     "data": {
      "text/html": [
       "<div>\n",
       "<style scoped>\n",
       "    .dataframe tbody tr th:only-of-type {\n",
       "        vertical-align: middle;\n",
       "    }\n",
       "\n",
       "    .dataframe tbody tr th {\n",
       "        vertical-align: top;\n",
       "    }\n",
       "\n",
       "    .dataframe thead th {\n",
       "        text-align: right;\n",
       "    }\n",
       "</style>\n",
       "<table border=\"1\" class=\"dataframe\">\n",
       "  <thead>\n",
       "    <tr style=\"text-align: right;\">\n",
       "      <th></th>\n",
       "      <th>Temperature</th>\n",
       "      <th>Humidity</th>\n",
       "    </tr>\n",
       "  </thead>\n",
       "  <tbody>\n",
       "    <tr>\n",
       "      <th>Temperature</th>\n",
       "      <td>9.273</td>\n",
       "      <td>-11.875</td>\n",
       "    </tr>\n",
       "    <tr>\n",
       "      <th>Humidity</th>\n",
       "      <td>-11.875</td>\n",
       "      <td>62.500</td>\n",
       "    </tr>\n",
       "  </tbody>\n",
       "</table>\n",
       "</div>"
      ],
      "text/plain": [
       "             Temperature  Humidity\n",
       "Temperature        9.273   -11.875\n",
       "Humidity         -11.875    62.500"
      ]
     },
     "execution_count": 12,
     "metadata": {},
     "output_type": "execute_result"
    }
   ],
   "source": [
    "dataset2.cov()"
   ]
  },
  {
   "cell_type": "markdown",
   "id": "1a790f04-1fa8-474d-8834-6562ef4b23b6",
   "metadata": {},
   "source": [
    "The covariance measures the linear relationship between two variables. A positive covariance indicates that the variables tend to change together in the same direction, while a negative covariance indicates that they tend to change in opposite directions. A covariance value close to zero suggests no significant linear relationship between the variables.\n",
    "\n",
    "Interpreting the results:\n",
    "\n",
    "Covariance between Temperature and Humidity: The covariance value of -11.875 indicates a negative relationship between Temperature and Humidity. It suggests that as the Temperature tends to increase, the Humidity tends to decrease, and vice versa.\n",
    "Covariance between Temperature and Weather Condition/Wind Direction: Since these variables are categorical, their covariance values are not meaningful. Covariance is typically calculated between two continuous variables.\n"
   ]
  },
  {
   "cell_type": "markdown",
   "id": "f2a77d3f-b644-4079-924c-79cc0726c6e0",
   "metadata": {},
   "source": [
    "--------------------------"
   ]
  },
  {
   "cell_type": "code",
   "execution_count": null,
   "id": "2e90943c-c875-4628-af38-f8aefc25e042",
   "metadata": {},
   "outputs": [],
   "source": []
  }
 ],
 "metadata": {
  "kernelspec": {
   "display_name": "Python 3 (ipykernel)",
   "language": "python",
   "name": "python3"
  },
  "language_info": {
   "codemirror_mode": {
    "name": "ipython",
    "version": 3
   },
   "file_extension": ".py",
   "mimetype": "text/x-python",
   "name": "python",
   "nbconvert_exporter": "python",
   "pygments_lexer": "ipython3",
   "version": "3.10.8"
  }
 },
 "nbformat": 4,
 "nbformat_minor": 5
}
